{
 "cells": [
  {
   "cell_type": "markdown",
   "metadata": {},
   "source": [
    "# 1. Import Dependencies"
   ]
  },
  {
   "cell_type": "code",
   "execution_count": 1,
   "metadata": {},
   "outputs": [
    {
     "name": "stdout",
     "output_type": "stream",
     "text": [
      "Requirement already satisfied: opencv-python in c:\\tensorflow object detection\\tfodcourse\\tfod\\lib\\site-packages (4.6.0.66)\n",
      "Requirement already satisfied: numpy>=1.21.2 in c:\\tensorflow object detection\\tfodcourse\\tfod\\lib\\site-packages (from opencv-python) (1.23.5)\n"
     ]
    }
   ],
   "source": [
    "!pip install opencv-python"
   ]
  },
  {
   "cell_type": "code",
   "execution_count": 2,
   "metadata": {},
   "outputs": [],
   "source": [
    "# Import opencv\n",
    "import cv2 \n",
    "\n",
    "# Import uuid\n",
    "import uuid\n",
    "\n",
    "# Import Operating System\n",
    "import os\n",
    "\n",
    "# Import time\n",
    "import time"
   ]
  },
  {
   "cell_type": "markdown",
   "metadata": {},
   "source": [
    "# 2. Define Images to Collect"
   ]
  },
  {
   "cell_type": "code",
   "execution_count": 9,
   "metadata": {},
   "outputs": [],
   "source": [
    "labels = ['blue_pen', 'notebook']\n",
    "# labels = ['notebook'] (use this line if you need more img samples)\n",
    "number_imgs = 5"
   ]
  },
  {
   "cell_type": "markdown",
   "metadata": {},
   "source": [
    "# 3. Setup Folders "
   ]
  },
  {
   "cell_type": "code",
   "execution_count": 4,
   "metadata": {},
   "outputs": [],
   "source": [
    "IMAGES_PATH = os.path.join('Tensorflow', 'workspace', 'images', 'collectedimages')"
   ]
  },
  {
   "cell_type": "code",
   "execution_count": 5,
   "metadata": {},
   "outputs": [],
   "source": [
    "if not os.path.exists(IMAGES_PATH):\n",
    "    if os.name == 'posix':\n",
    "        !mkdir -p {IMAGES_PATH}\n",
    "    if os.name == 'nt':\n",
    "         !mkdir {IMAGES_PATH}\n",
    "for label in labels:\n",
    "    path = os.path.join(IMAGES_PATH, label)\n",
    "    if not os.path.exists(path):\n",
    "        !mkdir {path}"
   ]
  },
  {
   "cell_type": "markdown",
   "metadata": {},
   "source": [
    "# 4. Capture Images"
   ]
  },
  {
   "cell_type": "code",
   "execution_count": 10,
   "metadata": {},
   "outputs": [
    {
     "name": "stdout",
     "output_type": "stream",
     "text": [
      "Collecting images for notebook\n",
      "Collecting image 0\n",
      "Collecting image 1\n",
      "Collecting image 2\n",
      "Collecting image 3\n",
      "Collecting image 4\n"
     ]
    }
   ],
   "source": [
    "for label in labels:\n",
    "    cap = cv2.VideoCapture(0) #this means it connects to your webcam\n",
    "    print('Collecting images for {}'.format(label))\n",
    "    time.sleep(7)\n",
    "    for imgnum in range(number_imgs):\n",
    "        print('Collecting image {}'.format(imgnum))\n",
    "        ret, frame = cap.read()\n",
    "        imgname = os.path.join(IMAGES_PATH,label,label+'.'+'{}.jpg'.format(str(uuid.uuid1())))\n",
    "        cv2.imwrite(imgname, frame)\n",
    "        cv2.imshow('frame', frame)\n",
    "        time.sleep(3)\n",
    "\n",
    "        if cv2.waitKey(1) & 0xFF == ord('q'):\n",
    "            break\n",
    "cap.release()\n",
    "cv2.destroyAllWindows()"
   ]
  },
  {
   "cell_type": "markdown",
   "metadata": {},
   "source": [
    "# 5. Image Labelling"
   ]
  },
  {
   "cell_type": "code",
   "execution_count": 15,
   "metadata": {},
   "outputs": [
    {
     "name": "stdout",
     "output_type": "stream",
     "text": [
      "Requirement already satisfied: pyqt5 in c:\\tensorflow object detection\\tfodcourse\\tfod\\lib\\site-packages (5.15.7)\n",
      "Requirement already satisfied: PyQt5-sip<13,>=12.11 in c:\\tensorflow object detection\\tfodcourse\\tfod\\lib\\site-packages (from pyqt5) (12.11.0)\n",
      "Requirement already satisfied: PyQt5-Qt5>=5.15.0 in c:\\tensorflow object detection\\tfodcourse\\tfod\\lib\\site-packages (from pyqt5) (5.15.2)\n"
     ]
    }
   ],
   "source": [
    "!pip install --upgrade pyqt5 "
   ]
  },
  {
   "cell_type": "code",
   "execution_count": 21,
   "metadata": {},
   "outputs": [
    {
     "name": "stdout",
     "output_type": "stream",
     "text": [
      "Processing c:\\tensorflow object detection\\tfodcourse\\lxml-4.9.0-cp311-cp311-win_amd64.whl\n",
      "Installing collected packages: lxml\n",
      "Successfully installed lxml-4.9.0\n"
     ]
    }
   ],
   "source": [
    "!python -m pip install lxml-4.9.0-cp311-cp311-win_amd64.whl"
   ]
  },
  {
   "cell_type": "code",
   "execution_count": 22,
   "metadata": {},
   "outputs": [
    {
     "name": "stdout",
     "output_type": "stream",
     "text": [
      "Package           Version\n",
      "----------------- --------\n",
      "asttokens         2.2.1\n",
      "backcall          0.2.0\n",
      "colorama          0.4.6\n",
      "debugpy           1.6.4\n",
      "decorator         5.1.1\n",
      "entrypoints       0.4\n",
      "executing         1.2.0\n",
      "ipykernel         6.17.1\n",
      "ipython           8.7.0\n",
      "jedi              0.18.2\n",
      "jupyter_client    7.4.7\n",
      "jupyter_core      5.1.0\n",
      "lxml              4.9.0\n",
      "matplotlib-inline 0.1.6\n",
      "nest-asyncio      1.5.6\n",
      "numpy             1.23.5\n",
      "opencv-python     4.6.0.66\n",
      "packaging         21.3\n",
      "parso             0.8.3\n",
      "pickleshare       0.7.5\n",
      "pip               22.3.1\n",
      "platformdirs      2.5.4\n",
      "prompt-toolkit    3.0.33\n",
      "psutil            5.9.4\n",
      "pure-eval         0.2.2\n",
      "Pygments          2.13.0\n",
      "pyparsing         3.0.9\n",
      "PyQt5             5.15.7\n",
      "PyQt5-Qt5         5.15.2\n",
      "PyQt5-sip         12.11.0\n",
      "python-dateutil   2.8.2\n",
      "pywin32           305\n",
      "pyzmq             24.0.1\n",
      "setuptools        65.5.0\n",
      "six               1.16.0\n",
      "stack-data        0.6.2\n",
      "tornado           6.2\n",
      "traitlets         5.6.0\n",
      "wcwidth           0.2.5\n"
     ]
    }
   ],
   "source": [
    "!pip list"
   ]
  },
  {
   "cell_type": "code",
   "execution_count": 23,
   "metadata": {},
   "outputs": [],
   "source": [
    "LABELIMG_PATH = os.path.join('Tensorflow', 'labelimg')"
   ]
  },
  {
   "cell_type": "code",
   "execution_count": 24,
   "metadata": {},
   "outputs": [
    {
     "name": "stderr",
     "output_type": "stream",
     "text": [
      "Cloning into 'Tensorflow\\labelimg'...\n"
     ]
    }
   ],
   "source": [
    "if not os.path.exists(LABELIMG_PATH):\n",
    "    !mkdir {LABELIMG_PATH}\n",
    "    !git clone https://github.com/tzutalin/labelImg {LABELIMG_PATH}"
   ]
  },
  {
   "cell_type": "code",
   "execution_count": 25,
   "metadata": {},
   "outputs": [],
   "source": [
    "if os.name == 'posix':\n",
    "    !cd {LABELIMG_PATH} && make qt5py3\n",
    "if os.name =='nt':\n",
    "    !cd {LABELIMG_PATH} && pyrcc5 -o libs/resources.py resources.qrc"
   ]
  },
  {
   "cell_type": "code",
   "execution_count": 26,
   "metadata": {},
   "outputs": [
    {
     "name": "stdout",
     "output_type": "stream",
     "text": [
      "Cancel creation.\n",
      "Cancel creation.\n",
      "Image:C:\\Tensorflow Object Detection\\TFODCourse\\Tensorflow\\workspace\\images\\collectedimages\\blue_pen\\blue_pen.2f2df500-7878-11ed-b905-a85e45368839.jpg -> Annotation:C:/Tensorflow Object Detection/TFODCourse/Tensorflow/workspace/images/collectedimages/blue_pen\\blue_pen.2f2df500-7878-11ed-b905-a85e45368839.xml\n",
      "Cancel creation.\n",
      "Image:C:\\Tensorflow Object Detection\\TFODCourse\\Tensorflow\\workspace\\images\\collectedimages\\blue_pen\\blue_pen.30fa7a7c-7878-11ed-9267-a85e45368839.jpg -> Annotation:C:/Tensorflow Object Detection/TFODCourse/Tensorflow/workspace/images/collectedimages/blue_pen\\blue_pen.30fa7a7c-7878-11ed-9267-a85e45368839.xml\n",
      "Image:C:\\Tensorflow Object Detection\\TFODCourse\\Tensorflow\\workspace\\images\\collectedimages\\blue_pen\\blue_pen.32c5e4ca-7878-11ed-92d2-a85e45368839.jpg -> Annotation:C:/Tensorflow Object Detection/TFODCourse/Tensorflow/workspace/images/collectedimages/blue_pen\\blue_pen.32c5e4ca-7878-11ed-92d2-a85e45368839.xml\n",
      "Image:C:\\Tensorflow Object Detection\\TFODCourse\\Tensorflow\\workspace\\images\\collectedimages\\blue_pen\\blue_pen.365e7b2d-7878-11ed-8d65-a85e45368839.jpg -> Annotation:C:/Tensorflow Object Detection/TFODCourse/Tensorflow/workspace/images/collectedimages/blue_pen\\blue_pen.365e7b2d-7878-11ed-8d65-a85e45368839.xml\n",
      "Image:C:\\Tensorflow Object Detection\\TFODCourse\\Tensorflow\\workspace\\images\\collectedimages\\blue_pen\\blue_pen.da721b00-7877-11ed-8184-a85e45368839.jpg -> Annotation:C:/Tensorflow Object Detection/TFODCourse/Tensorflow/workspace/images/collectedimages/blue_pen\\blue_pen.da721b00-7877-11ed-8184-a85e45368839.xml\n",
      "Image:C:\\Tensorflow Object Detection\\TFODCourse\\Tensorflow\\workspace\\images\\collectedimages\\blue_pen\\blue_pen.34933160-7878-11ed-974b-a85e45368839.jpg -> Annotation:C:/Tensorflow Object Detection/TFODCourse/Tensorflow/workspace/images/collectedimages/blue_pen\\blue_pen.34933160-7878-11ed-974b-a85e45368839.xml\n",
      "Image:C:\\Tensorflow Object Detection\\TFODCourse\\Tensorflow\\workspace\\images\\collectedimages\\blue_pen\\blue_pen.dc3d881d-7877-11ed-9cf5-a85e45368839.jpg -> Annotation:C:/Tensorflow Object Detection/TFODCourse/Tensorflow/workspace/images/collectedimages/blue_pen\\blue_pen.dc3d881d-7877-11ed-9cf5-a85e45368839.xml\n",
      "Image:C:\\Tensorflow Object Detection\\TFODCourse\\Tensorflow\\workspace\\images\\collectedimages\\blue_pen\\blue_pen.de08f296-7877-11ed-b930-a85e45368839.jpg -> Annotation:C:/Tensorflow Object Detection/TFODCourse/Tensorflow/workspace/images/collectedimages/blue_pen\\blue_pen.de08f296-7877-11ed-b930-a85e45368839.xml\n",
      "Image:C:\\Tensorflow Object Detection\\TFODCourse\\Tensorflow\\workspace\\images\\collectedimages\\blue_pen\\blue_pen.dfd44557-7877-11ed-b2c7-a85e45368839.jpg -> Annotation:C:/Tensorflow Object Detection/TFODCourse/Tensorflow/workspace/images/collectedimages/blue_pen\\blue_pen.dfd44557-7877-11ed-b2c7-a85e45368839.xml\n",
      "Image:C:\\Tensorflow Object Detection\\TFODCourse\\Tensorflow\\workspace\\images\\collectedimages\\notebook\\notebook.5f2bdb82-7878-11ed-8f2e-a85e45368839.jpg -> Annotation:C:/Tensorflow Object Detection/TFODCourse/Tensorflow/workspace/images/collectedimages/notebook\\notebook.5f2bdb82-7878-11ed-8f2e-a85e45368839.xml\n",
      "Image:C:\\Tensorflow Object Detection\\TFODCourse\\Tensorflow\\workspace\\images\\collectedimages\\notebook\\notebook.5f2bdb82-7878-11ed-8f2e-a85e45368839.jpg -> Annotation:C:/Tensorflow Object Detection/TFODCourse/Tensorflow/workspace/images/collectedimages/notebook\\notebook.5f2bdb82-7878-11ed-8f2e-a85e45368839.xml\n",
      "Image:C:\\Tensorflow Object Detection\\TFODCourse\\Tensorflow\\workspace\\images\\collectedimages\\notebook\\notebook.60f87db8-7878-11ed-9f1d-a85e45368839.jpg -> Annotation:C:/Tensorflow Object Detection/TFODCourse/Tensorflow/workspace/images/collectedimages/notebook\\notebook.60f87db8-7878-11ed-9f1d-a85e45368839.xml\n",
      "Image:C:\\Tensorflow Object Detection\\TFODCourse\\Tensorflow\\workspace\\images\\collectedimages\\notebook\\notebook.62c51fdc-7878-11ed-b437-a85e45368839.jpg -> Annotation:C:/Tensorflow Object Detection/TFODCourse/Tensorflow/workspace/images/collectedimages/notebook\\notebook.62c51fdc-7878-11ed-b437-a85e45368839.xml\n",
      "Image:C:\\Tensorflow Object Detection\\TFODCourse\\Tensorflow\\workspace\\images\\collectedimages\\notebook\\notebook.64909902-7878-11ed-861e-a85e45368839.jpg -> Annotation:C:/Tensorflow Object Detection/TFODCourse/Tensorflow/workspace/images/collectedimages/notebook\\notebook.64909902-7878-11ed-861e-a85e45368839.xml\n",
      "Image:C:\\Tensorflow Object Detection\\TFODCourse\\Tensorflow\\workspace\\images\\collectedimages\\notebook\\notebook.665d151a-7878-11ed-b19c-a85e45368839.jpg -> Annotation:C:/Tensorflow Object Detection/TFODCourse/Tensorflow/workspace/images/collectedimages/notebook\\notebook.665d151a-7878-11ed-b19c-a85e45368839.xml\n",
      "Image:C:\\Tensorflow Object Detection\\TFODCourse\\Tensorflow\\workspace\\images\\collectedimages\\notebook\\notebook.e964a797-7877-11ed-be00-a85e45368839.jpg -> Annotation:C:/Tensorflow Object Detection/TFODCourse/Tensorflow/workspace/images/collectedimages/notebook\\notebook.e964a797-7877-11ed-be00-a85e45368839.xml\n",
      "Image:C:\\Tensorflow Object Detection\\TFODCourse\\Tensorflow\\workspace\\images\\collectedimages\\notebook\\notebook.e799269e-7877-11ed-b732-a85e45368839.jpg -> Annotation:C:/Tensorflow Object Detection/TFODCourse/Tensorflow/workspace/images/collectedimages/notebook\\notebook.e799269e-7877-11ed-b732-a85e45368839.xml\n",
      "Image:C:\\Tensorflow Object Detection\\TFODCourse\\Tensorflow\\workspace\\images\\collectedimages\\notebook\\notebook.eb301c5c-7877-11ed-9b40-a85e45368839.jpg -> Annotation:C:/Tensorflow Object Detection/TFODCourse/Tensorflow/workspace/images/collectedimages/notebook\\notebook.eb301c5c-7877-11ed-9b40-a85e45368839.xml\n",
      "Image:C:\\Tensorflow Object Detection\\TFODCourse\\Tensorflow\\workspace\\images\\collectedimages\\notebook\\notebook.ecfdca09-7877-11ed-ac81-a85e45368839.jpg -> Annotation:C:/Tensorflow Object Detection/TFODCourse/Tensorflow/workspace/images/collectedimages/notebook\\notebook.ecfdca09-7877-11ed-ac81-a85e45368839.xml\n",
      "Image:C:\\Tensorflow Object Detection\\TFODCourse\\Tensorflow\\workspace\\images\\collectedimages\\notebook\\notebook.eec90663-7877-11ed-a4ac-a85e45368839.jpg -> Annotation:C:/Tensorflow Object Detection/TFODCourse/Tensorflow/workspace/images/collectedimages/notebook\\notebook.eec90663-7877-11ed-a4ac-a85e45368839.xml\n"
     ]
    }
   ],
   "source": [
    "!cd {LABELIMG_PATH} && python labelImg.py"
   ]
  },
  {
   "cell_type": "markdown",
   "metadata": {},
   "source": [
    "# 6. Move them into a Training and Testing Partition"
   ]
  },
  {
   "cell_type": "markdown",
   "metadata": {},
   "source": [
    "# OPTIONAL - 7. Compress them for Colab Training"
   ]
  },
  {
   "cell_type": "code",
   "execution_count": 20,
   "metadata": {},
   "outputs": [],
   "source": [
    "TRAIN_PATH = os.path.join('Tensorflow', 'workspace', 'images', 'train')\n",
    "TEST_PATH = os.path.join('Tensorflow', 'workspace', 'images', 'test')\n",
    "ARCHIVE_PATH = os.path.join('Tensorflow', 'workspace', 'images', 'archive.tar.gz')"
   ]
  },
  {
   "cell_type": "code",
   "execution_count": 21,
   "metadata": {},
   "outputs": [],
   "source": [
    "!tar -czf {ARCHIVE_PATH} {TRAIN_PATH} {TEST_PATH}"
   ]
  },
  {
   "cell_type": "code",
   "execution_count": null,
   "metadata": {},
   "outputs": [],
   "source": []
  }
 ],
 "metadata": {
  "kernelspec": {
   "display_name": "tfod",
   "language": "python",
   "name": "tfod"
  },
  "language_info": {
   "codemirror_mode": {
    "name": "ipython",
    "version": 3
   },
   "file_extension": ".py",
   "mimetype": "text/x-python",
   "name": "python",
   "nbconvert_exporter": "python",
   "pygments_lexer": "ipython3",
   "version": "3.7.3"
  }
 },
 "nbformat": 4,
 "nbformat_minor": 2
}
